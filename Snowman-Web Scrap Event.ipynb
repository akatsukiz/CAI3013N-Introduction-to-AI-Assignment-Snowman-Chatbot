{
 "cells": [
  {
   "cell_type": "code",
   "execution_count": 7,
   "id": "8a3dc7f6",
   "metadata": {},
   "outputs": [
    {
     "name": "stdout",
     "output_type": "stream",
     "text": [
      "Events data saved to events_data.csv\n"
     ]
    }
   ],
   "source": [
    "import requests\n",
    "import codecs\n",
    "import csv\n",
    "from bs4 import BeautifulSoup\n",
    "\n",
    "def scrape_events(url):\n",
    "    response = requests.get(url)\n",
    "    \n",
    "    if response.status_code == 200:\n",
    "        soup = BeautifulSoup(response.content, 'html.parser')\n",
    "        \n",
    "        events_data = []\n",
    "\n",
    "        # Modify the following code based on the structure of the HTML on the website\n",
    "        event_elements = soup.find_all('div', {'class': 'title'})\n",
    "\n",
    "        for event_element in event_elements:\n",
    "            anchor_tag = event_element.find('a')\n",
    "\n",
    "            # Check if an anchor tag is found before accessing its text\n",
    "            if anchor_tag:\n",
    "                event_name = anchor_tag.text.strip()\n",
    "            else:\n",
    "                event_name = \"\"\n",
    "\n",
    "            # Finding sibling elements for additional information\n",
    "            date_element = event_element.find_next_sibling('div', {'class': 'subtitle'})\n",
    "            address_element = event_element.find_next_sibling('div', {'class': 'info'})\n",
    "            summary_element = event_element.find_next_sibling('div', {'class': 'summary'})\n",
    "\n",
    "            if date_element:\n",
    "                event_date = date_element.text.replace('Event Date:', '').strip()\n",
    "            else:\n",
    "                event_date = \"\"\n",
    "\n",
    "            if address_element:\n",
    "                event_address = address_element.text.replace('Address:', '').strip()\n",
    "            else:\n",
    "                event_address = \"\"\n",
    "\n",
    "            if summary_element:\n",
    "                event_summary = summary_element.text.strip()\n",
    "            else:\n",
    "                event_summary = \"\"\n",
    "\n",
    "            event_info = {\n",
    "                'Event Name': event_name,\n",
    "                'Event Date': event_date,\n",
    "                'Event Address': event_address,\n",
    "                'Event Summary': event_summary,\n",
    "            }\n",
    "\n",
    "            events_data.append(event_info)\n",
    "\n",
    "        return events_data\n",
    "    else:\n",
    "        print(f\"Failed to retrieve the webpage. Status code: {response.status_code}\")\n",
    "        return None\n",
    "\n",
    "def save_to_csv(data, csv_filename):\n",
    "    if data:\n",
    "        keys = data[0].keys()\n",
    "\n",
    "        with codecs.open(csv_filename, 'w', 'utf-8-sig') as csv_file:\n",
    "            writer = csv.DictWriter(csv_file, fieldnames=keys)\n",
    "            writer.writeheader()\n",
    "            writer.writerows(data)\n",
    "\n",
    "if __name__ == \"__main__\":\n",
    "    events_url = 'https://mypenang.gov.my/events/all-events/?quarter=4&lg=en'\n",
    "    events_data = scrape_events(events_url)\n",
    "\n",
    "    if events_data:\n",
    "        csv_filename = 'events_data.csv'\n",
    "        save_to_csv(events_data, csv_filename)\n",
    "        print(f\"Events data saved to {csv_filename}\")\n",
    "    else:\n",
    "        print(\"No events data retrieved.\")\n"
   ]
  },
  {
   "cell_type": "code",
   "execution_count": null,
   "id": "2666fa87",
   "metadata": {},
   "outputs": [],
   "source": []
  }
 ],
 "metadata": {
  "kernelspec": {
   "display_name": "Python 3 (ipykernel)",
   "language": "python",
   "name": "python3"
  },
  "language_info": {
   "codemirror_mode": {
    "name": "ipython",
    "version": 3
   },
   "file_extension": ".py",
   "mimetype": "text/x-python",
   "name": "python",
   "nbconvert_exporter": "python",
   "pygments_lexer": "ipython3",
   "version": "3.11.4"
  }
 },
 "nbformat": 4,
 "nbformat_minor": 5
}
